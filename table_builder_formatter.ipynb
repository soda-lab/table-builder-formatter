{
 "cells": [
  {
   "cell_type": "markdown",
   "metadata": {},
   "source": [
    "# Format Table in CSV"
   ]
  },
  {
   "cell_type": "markdown",
   "metadata": {},
   "source": [
    "## Read Config"
   ]
  },
  {
   "cell_type": "code",
   "execution_count": null,
   "metadata": {},
   "outputs": [],
   "source": [
    "import configparser\n",
    "\n",
    "config = configparser.ConfigParser()\n",
    "config.read('config.ini')\n",
    "csv_file = config['DEFAULT']['CSV-File']\n",
    "len_row_table = config['DEFAULT']['Len-Row-Table']\n",
    "output_file = config['DEFAULT']['Output-File']"
   ]
  },
  {
   "cell_type": "markdown",
   "metadata": {},
   "source": [
    "## Read CSV"
   ]
  },
  {
   "cell_type": "code",
   "execution_count": 2,
   "metadata": {},
   "outputs": [
    {
     "name": "stdout",
     "output_type": "stream",
     "text": [
      "5503\n"
     ]
    }
   ],
   "source": [
    "import csv\n",
    "\n",
    "with open(csv_file, 'r') as f:\n",
    "    reader= csv.reader(f)\n",
    "    table_list = list(reader)"
   ]
  },
  {
   "cell_type": "code",
   "execution_count": 3,
   "metadata": {},
   "outputs": [
    {
     "name": "stdout",
     "output_type": "stream",
     "text": [
      "2117402\n"
     ]
    }
   ],
   "source": [
    "len_row_table = int(len_row_table)\n",
    "total_row = len(table_list)\n",
    "num_table = round(total_row/(len_row_table+1))"
   ]
  },
  {
   "cell_type": "code",
   "execution_count": 4,
   "metadata": {},
   "outputs": [],
   "source": [
    "for table in range(0,num_table):\n",
    "    gap = (len_row_table+1)*table\n",
    "    for i in range((3+gap),(len_row_table+gap)):\n",
    "        for j in range(1,len(table_list[i])):\n",
    "            code = table_list[(0+gap)][0]        \n",
    "            age_group = table_list[(i)][0]\n",
    "            income = table_list[(1+gap)][j]\n",
    "            number = table_list[(i)][j]\n",
    "            write_csv(output_file,code,age_group,income,number)"
   ]
  },
  {
   "cell_type": "markdown",
   "metadata": {},
   "source": [
    "## Supporting Method"
   ]
  },
  {
   "cell_type": "code",
   "execution_count": 1,
   "metadata": {},
   "outputs": [],
   "source": [
    "# write into csv file\n",
    "def write_csv(file_name,code,age_group,income,number):\n",
    "    row = '\"{}\",\"{}\",\"{}\",\"{}\"\\n'.format(code,age_group,income,number)\n",
    "    \n",
    "    with open(file_name, 'a') as f:      \n",
    "        f.write(row)"
   ]
  },
  {
   "cell_type": "code",
   "execution_count": null,
   "metadata": {},
   "outputs": [],
   "source": []
  }
 ],
 "metadata": {
  "kernelspec": {
   "display_name": "Python 3",
   "language": "python",
   "name": "python3"
  },
  "language_info": {
   "codemirror_mode": {
    "name": "ipython",
    "version": 3
   },
   "file_extension": ".py",
   "mimetype": "text/x-python",
   "name": "python",
   "nbconvert_exporter": "python",
   "pygments_lexer": "ipython3",
   "version": "3.6.4"
  }
 },
 "nbformat": 4,
 "nbformat_minor": 2
}
